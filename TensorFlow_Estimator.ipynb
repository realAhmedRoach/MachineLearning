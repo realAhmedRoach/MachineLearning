{
 "cells": [
  {
   "cell_type": "code",
   "execution_count": 1,
   "metadata": {
    "collapsed": true
   },
   "outputs": [],
   "source": [
    "# import dependencies\n",
    "import tensorflow as tf\n",
    "import numpy as np"
   ]
  },
  {
   "cell_type": "markdown",
   "metadata": {},
   "source": [
    "Declare a list of features"
   ]
  },
  {
   "cell_type": "code",
   "execution_count": 2,
   "metadata": {
    "collapsed": true
   },
   "outputs": [],
   "source": [
    "feature_columns = [tf.feature_column.numeric_column(\"x\", shape=[1])]"
   ]
  },
  {
   "cell_type": "markdown",
   "metadata": {},
   "source": [
    "An estimator is the front end to training and evaluation\n",
    "\n",
    "There are many types"
   ]
  },
  {
   "cell_type": "code",
   "execution_count": 3,
   "metadata": {},
   "outputs": [
    {
     "name": "stdout",
     "output_type": "stream",
     "text": [
      "INFO:tensorflow:Using default config.\n",
      "WARNING:tensorflow:Using temporary folder as model directory: C:\\Users\\aarh9\\AppData\\Local\\Temp\\tmpwnzf4tvq\n",
      "INFO:tensorflow:Using config: {'_model_dir': 'C:\\\\Users\\\\aarh9\\\\AppData\\\\Local\\\\Temp\\\\tmpwnzf4tvq', '_tf_random_seed': 1, '_save_summary_steps': 100, '_save_checkpoints_secs': 600, '_save_checkpoints_steps': None, '_session_config': None, '_keep_checkpoint_max': 5, '_keep_checkpoint_every_n_hours': 10000, '_log_step_count_steps': 100}\n"
     ]
    }
   ],
   "source": [
    "estimator = tf.estimator.LinearRegressor(feature_columns=feature_columns)"
   ]
  },
  {
   "cell_type": "code",
   "execution_count": 4,
   "metadata": {
    "collapsed": true
   },
   "outputs": [],
   "source": [
    "x_train = np.array([1., 2., 3., 4.])\n",
    "y_train = np.array([0., -1., -2., -3.])\n",
    "x_eval = np.array([2., 5., 8., 1.])\n",
    "y_eval = np.array([-1.01, -4.1, -7, 0.])"
   ]
  },
  {
   "cell_type": "code",
   "execution_count": 5,
   "metadata": {
    "collapsed": true
   },
   "outputs": [],
   "source": [
    "input_fn = tf.estimator.inputs.numpy_input_fn({ \"x\": x_train }, y_train, batch_size=4, num_epochs=None, shuffle=True)\n",
    "train_input_fn = tf.estimator.inputs.numpy_input_fn({ \"x\": x_train }, y_train, batch_size=4, num_epochs=1000, shuffle=True)\n",
    "eval_input_fn = tf.estimator.inputs.numpy_input_fn({ \"x\": x_eval }, y_eval, batch_size=4, num_epochs=1000, shuffle=True)"
   ]
  },
  {
   "cell_type": "code",
   "execution_count": 6,
   "metadata": {},
   "outputs": [
    {
     "name": "stdout",
     "output_type": "stream",
     "text": [
      "INFO:tensorflow:Create CheckpointSaverHook.\n",
      "INFO:tensorflow:Saving checkpoints for 1 into C:\\Users\\aarh9\\AppData\\Local\\Temp\\tmpwnzf4tvq\\model.ckpt.\n",
      "INFO:tensorflow:loss = 14.0, step = 1\n",
      "INFO:tensorflow:global_step/sec: 215.994\n",
      "INFO:tensorflow:loss = 0.423654, step = 101 (0.470 sec)\n",
      "INFO:tensorflow:global_step/sec: 233.657\n",
      "INFO:tensorflow:loss = 0.108688, step = 201 (0.436 sec)\n",
      "INFO:tensorflow:global_step/sec: 166.123\n",
      "INFO:tensorflow:loss = 0.0114996, step = 301 (0.595 sec)\n",
      "INFO:tensorflow:global_step/sec: 183.159\n",
      "INFO:tensorflow:loss = 0.0020298, step = 401 (0.575 sec)\n",
      "INFO:tensorflow:global_step/sec: 178.902\n",
      "INFO:tensorflow:loss = 0.000891991, step = 501 (0.531 sec)\n",
      "INFO:tensorflow:global_step/sec: 201.219\n",
      "INFO:tensorflow:loss = 0.000286716, step = 601 (0.497 sec)\n",
      "INFO:tensorflow:global_step/sec: 198.034\n",
      "INFO:tensorflow:loss = 5.60664e-05, step = 701 (0.504 sec)\n",
      "INFO:tensorflow:global_step/sec: 232.028\n",
      "INFO:tensorflow:loss = 1.59844e-05, step = 801 (0.431 sec)\n",
      "INFO:tensorflow:global_step/sec: 247.544\n",
      "INFO:tensorflow:loss = 2.59972e-06, step = 901 (0.402 sec)\n",
      "INFO:tensorflow:Saving checkpoints for 1000 into C:\\Users\\aarh9\\AppData\\Local\\Temp\\tmpwnzf4tvq\\model.ckpt.\n",
      "INFO:tensorflow:Loss for final step: 9.9904e-07.\n"
     ]
    },
    {
     "data": {
      "text/plain": [
       "<tensorflow.python.estimator.canned.linear.LinearRegressor at 0x1dcd77b3c50>"
      ]
     },
     "execution_count": 6,
     "metadata": {},
     "output_type": "execute_result"
    }
   ],
   "source": [
    "estimator.train(input_fn=input_fn, steps=1000)"
   ]
  },
  {
   "cell_type": "code",
   "execution_count": 7,
   "metadata": {},
   "outputs": [
    {
     "name": "stdout",
     "output_type": "stream",
     "text": [
      "INFO:tensorflow:Starting evaluation at 2017-10-09-14:17:13\n",
      "INFO:tensorflow:Restoring parameters from C:\\Users\\aarh9\\AppData\\Local\\Temp\\tmpwnzf4tvq\\model.ckpt-1000\n",
      "INFO:tensorflow:Finished evaluation at 2017-10-09-14:17:17\n",
      "INFO:tensorflow:Saving dict for global step 1000: average_loss = 1.50105e-07, global_step = 1000, loss = 6.00419e-07\n",
      "INFO:tensorflow:Starting evaluation at 2017-10-09-14:17:21\n",
      "INFO:tensorflow:Restoring parameters from C:\\Users\\aarh9\\AppData\\Local\\Temp\\tmpwnzf4tvq\\model.ckpt-1000\n",
      "INFO:tensorflow:Finished evaluation at 2017-10-09-14:17:26\n",
      "INFO:tensorflow:Saving dict for global step 1000: average_loss = 0.00256129, global_step = 1000, loss = 0.0102452\n",
      "train metrics: {'average_loss': 1.5010464e-07, 'loss': 6.0041856e-07, 'global_step': 1000}\n",
      "eval metrics: {'average_loss': 0.0025612907, 'loss': 0.010245163, 'global_step': 1000}\n"
     ]
    }
   ],
   "source": [
    "# evaluate how well the model did\n",
    "train_metrics = estimator.evaluate(input_fn=train_input_fn)\n",
    "eval_metrics = estimator.evaluate(input_fn=eval_input_fn)\n",
    "\n",
    "print(\"train metrics: %r\"% train_metrics)\n",
    "print(\"eval metrics: %r\"% eval_metrics)"
   ]
  }
 ],
 "metadata": {
  "kernelspec": {
   "display_name": "Python 3",
   "language": "python",
   "name": "python3"
  },
  "language_info": {
   "codemirror_mode": {
    "name": "ipython",
    "version": 3
   },
   "file_extension": ".py",
   "mimetype": "text/x-python",
   "name": "python",
   "nbconvert_exporter": "python",
   "pygments_lexer": "ipython3",
   "version": "3.6.2"
  }
 },
 "nbformat": 4,
 "nbformat_minor": 2
}
