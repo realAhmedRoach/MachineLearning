{
 "cells": [
  {
   "cell_type": "code",
   "execution_count": null,
   "metadata": {
    "collapsed": true
   },
   "outputs": [],
   "source": [
    "# import library of functions\n",
    "from numpy import exp, array, random, dot"
   ]
  },
  {
   "cell_type": "code",
   "execution_count": null,
   "metadata": {
    "collapsed": true
   },
   "outputs": [],
   "source": [
    "# the neural network class\n",
    "class NeuralNetwork():\n",
    "    def __init__(self):\n",
    "        # seed the random number generator so the same\n",
    "        # numbers are generated every time\n",
    "        random.seed(1)\n",
    "        \n",
    "        # initialize the weights as a 3 x 1 matrix\n",
    "        self.synaptic_weights = 2 * random.random((6, 4)) - 1 # value range from -1 to 1\n",
    "        \n",
    "    # the activation function\n",
    "    def __sigmoid(self, x):\n",
    "        return 1 / (1 + exp(-x))\n",
    "    \n",
    "    # the sigmoid derivative\n",
    "    # shows how much to change the weights by\n",
    "    def __sigmoid_derivative(self, x):\n",
    "        return x * (1 - x)\n",
    "    \n",
    "    # train the neural network by changing the weights each time\n",
    "    def train(self, training_set_inputs, training_set_outputs, number_of_training_iterations):\n",
    "        for iterations in range(number_of_training_iterations):\n",
    "            # pass the training set into our neural network\n",
    "            output = self.think(training_set_inputs)\n",
    "            \n",
    "            # calculate the error\n",
    "            error = training_set_outputs - output\n",
    "            \n",
    "            # multply the error by the input and by the gradient of the sigmoid\n",
    "            # the less confident weights are adjusted more\n",
    "            # this means inputs, which are 0, do not adjust the weights\n",
    "            adjustment = dot(training_set_inputs.T, error * self.__sigmoid_derivative(output))\n",
    "            \n",
    "            # adjust the weights with the adjustment\n",
    "            self.synaptic_weights += adjustment\n",
    "            \n",
    "    def think(self, inputs):\n",
    "        return self.__sigmoid(dot(inputs, self.synaptic_weights))\n",
    "    \n",
    "\n",
    "\n"
   ]
  },
  {
   "cell_type": "code",
   "execution_count": 8,
   "metadata": {},
   "outputs": [
    {
     "name": "stdout",
     "output_type": "stream",
     "text": [
      "Random starting synaptic weights: \n",
      "[[-0.16595599  0.44064899 -0.99977125 -0.39533485]\n",
      " [-0.70648822 -0.81532281 -0.62747958 -0.30887855]\n",
      " [-0.20646505  0.07763347 -0.16161097  0.370439  ]\n",
      " [-0.5910955   0.75623487 -0.94522481  0.34093502]\n",
      " [-0.1653904   0.11737966 -0.71922612 -0.60379702]\n",
      " [ 0.60148914  0.93652315 -0.37315164  0.38464523]]\n",
      "New synaptic weights after training: \n",
      "[[-5.62018195  5.75332638 -6.38230839 -5.82243211]\n",
      " [-2.70415747 -1.27114702 -1.9319406   6.71317261]\n",
      " [-8.41250066 -1.5099004   3.92363657 -1.55811979]\n",
      " [ 2.38537993 -6.17911571  2.25038249 -4.3576786 ]\n",
      " [ 9.0194514  -5.68626126 -2.91332738  3.6481993 ]\n",
      " [-1.39618011  0.48069894 -1.67761266  7.40669638]]\n",
      "Considering new situation [0.75, 0.1, 0.1, .86, .93, .14] -> \n",
      "[ 0.99273394  0.00150407  0.00369714  0.04034294]\n",
      "Considering new situation [0.854, 0.761, 0.000, 0.736, 0.798, 0.762]] -> \n",
      "[  7.37259559e-01   8.38263333e-03   1.40861471e-04   9.95865647e-01]\n"
     ]
    }
   ],
   "source": [
    "# declare the possible inputs and outputs\n",
    "possible_inputs = [[1, 0, 0, 1, 1, 0], [1, 0, 0, 0, 0, 0], [0, 0, 1, 1, 0, 0], [1, 1, 1, 1, 1, 1]]\n",
    "possible_outputs = [[1, 0, 0, 0], [0, 1, 0, 0], [0, 0, 1, 0], [0, 0, 0, 1]]\n",
    "\n",
    "if __name__ == \"__main__\":\n",
    "    \n",
    "    # initialize the neural network\n",
    "    neural_network = NeuralNetwork()\n",
    "    \n",
    "    print (\"Random starting synaptic weights: \")\n",
    "    print (neural_network.synaptic_weights)\n",
    "    \n",
    "    # the training set has 3 inputs and 1 output\n",
    "    training_set_inputs = array(possible_inputs)\n",
    "    training_set_outputs = array(possible_outputs).T\n",
    "    \n",
    "    # Train the neural network with our set\n",
    "    # Do it 10,100 times\n",
    "    neural_network.train(training_set_inputs, training_set_outputs, 100000)\n",
    "    \n",
    "    print (\"New synaptic weights after training: \")\n",
    "    print (neural_network.synaptic_weights)\n",
    "    \n",
    "    # Test the neural network with a new situation\n",
    "    print (\"Considering new situation [0.75, 0.1, 0.1, .86, .93, .14] -> \")\n",
    "    print (neural_network.think(array([0.75, 0.1, 0.1, .86, .93, .14])))\n",
    "    \n",
    "    # This fails on a one-layer neural network...\n",
    "    print (\"Considering new situation [0.854, 0.761, 0.000, 0.736, 0.798, 0.762]] -> \")\n",
    "    print (neural_network.think(array([0.854, 0.761, 0.000, 0.736, 0.798, 0.762])))\n",
    " "
   ]
  }
 ],
 "metadata": {
  "kernelspec": {
   "display_name": "Python 3",
   "language": "python",
   "name": "python3"
  },
  "language_info": {
   "codemirror_mode": {
    "name": "ipython",
    "version": 3
   },
   "file_extension": ".py",
   "mimetype": "text/x-python",
   "name": "python",
   "nbconvert_exporter": "python",
   "pygments_lexer": "ipython3",
   "version": "3.6.2"
  }
 },
 "nbformat": 4,
 "nbformat_minor": 2
}
