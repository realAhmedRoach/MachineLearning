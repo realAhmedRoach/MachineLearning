{
 "cells": [
  {
   "cell_type": "code",
   "execution_count": 23,
   "metadata": {
    "collapsed": true
   },
   "outputs": [],
   "source": [
    "# import library of functions\n",
    "from numpy import exp, array, random, dot, mean, abs"
   ]
  },
  {
   "cell_type": "code",
   "execution_count": 24,
   "metadata": {},
   "outputs": [
    {
     "name": "stdout",
     "output_type": "stream",
     "text": [
      "[[0 0 1]\n",
      " [0 1 1]\n",
      " [1 0 1]\n",
      " [1 1 1]]\n",
      "[[0]\n",
      " [1]\n",
      " [1]\n",
      " [0]]\n"
     ]
    }
   ],
   "source": [
    "input_data = array([[0,0,1],\n",
    "            [0,1,1],\n",
    "            [1,0,1],\n",
    "            [1,1,1]])\n",
    "output_labels = array([[0],\n",
    "            [1],\n",
    "            [1],\n",
    "            [0]])\n",
    "\n",
    "print(input_labels)\n",
    "print(output_labels)"
   ]
  },
  {
   "cell_type": "code",
   "execution_count": 25,
   "metadata": {
    "collapsed": true
   },
   "outputs": [],
   "source": [
    "# the activation function\n",
    "def __sigmoid(x):\n",
    "        return 1 / (1 + exp(-x))\n",
    "    \n",
    "# the sigmoid derivative\n",
    "# shows how much to change the weights by\n",
    "def __sigmoid_derivative(x):\n",
    "        return x * (1 - x)\n"
   ]
  },
  {
   "cell_type": "code",
   "execution_count": 26,
   "metadata": {},
   "outputs": [
    {
     "name": "stdout",
     "output_type": "stream",
     "text": [
      "[[-0.90009308  0.07179281  0.32758929  0.02977822]\n",
      " [ 0.88918951  0.17311008  0.80680383 -0.72505059]\n",
      " [-0.72144731  0.61478258 -0.20464633 -0.66929161]]\n",
      "[[ 0.85501716]\n",
      " [-0.30446828]\n",
      " [ 0.50162421]\n",
      " [ 0.45199597]]\n"
     ]
    }
   ],
   "source": [
    "# the weights\n",
    "synaptic_weight_0 = 2 * random.random((3, 4)) - 1\n",
    "synaptic_weight_1 = 2 * random.random((4, 1)) - 1\n",
    "\n",
    "print(synaptic_weight_0)\n",
    "print(synaptic_weight_1)"
   ]
  },
  {
   "cell_type": "code",
   "execution_count": 27,
   "metadata": {},
   "outputs": [
    {
     "name": "stdout",
     "output_type": "stream",
     "text": [
      "Error: 0.49721742951\n",
      "Error: 0.00958553541507\n",
      "Error: 0.00661810936946\n",
      "Error: 0.00534673664535\n",
      "Error: 0.00460078940831\n",
      "Error: 0.00409675042082\n"
     ]
    }
   ],
   "source": [
    "# iterate over the data \n",
    "iterations = 60000\n",
    "for j in range(iterations):\n",
    "\n",
    "\t# Forward propagate through layers 0, 1, and 2\n",
    "    layer0 = input_data\n",
    "    layer1 = __sigmoid(dot(layer0, synaptic_weight_0))\n",
    "    layer2 = __sigmoid(dot(layer1, synaptic_weight_1))\n",
    "\n",
    "    #calculate error for layer 2\n",
    "    layer2_error = output_labels - layer2\n",
    "    \n",
    "    if (j% 10000) == 0:\n",
    "        print (\"Error: \" + str(mean(abs(layer2_error))))\n",
    "        \n",
    "    #Use it to compute the gradient\n",
    "    layer2_adjustment = layer2_error * __sigmoid_derivative(layer2)\n",
    "\n",
    "    #calculate error for layer 1\n",
    "    layer1_error = layer2_adjustment.dot(synaptic_weight_1.T)\n",
    "    \n",
    "    #Use it to compute its gradient\n",
    "    layer1_adjustment = layer1_error * __sigmoid_derivative(layer1)\n",
    "    \n",
    "    #update the weights using the gradients\n",
    "    synaptic_weight_1 += layer1.T.dot(layer2_adjustment)\n",
    "    synaptic_weight_0 += layer0.T.dot(layer1_adjustment)"
   ]
  },
  {
   "cell_type": "code",
   "execution_count": 28,
   "metadata": {},
   "outputs": [
    {
     "name": "stdout",
     "output_type": "stream",
     "text": [
      "[  9.60692875e-01   9.99590016e-01   7.88985874e-01   3.82593416e-04]\n"
     ]
    }
   ],
   "source": [
    "# test the neural network\n",
    "print(__sigmoid(dot(array([0, 1, 1]), synaptic_weight_0)))"
   ]
  }
 ],
 "metadata": {
  "kernelspec": {
   "display_name": "Python 3",
   "language": "python",
   "name": "python3"
  },
  "language_info": {
   "codemirror_mode": {
    "name": "ipython",
    "version": 3
   },
   "file_extension": ".py",
   "mimetype": "text/x-python",
   "name": "python",
   "nbconvert_exporter": "python",
   "pygments_lexer": "ipython3",
   "version": "3.6.2"
  }
 },
 "nbformat": 4,
 "nbformat_minor": 2
}
